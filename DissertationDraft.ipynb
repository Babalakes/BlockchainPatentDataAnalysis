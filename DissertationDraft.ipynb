{
 "cells": [
  {
   "cell_type": "markdown",
   "metadata": {
    "deletable": true,
    "editable": true
   },
   "source": [
    "## Title: Quantifying Innovation in Blockchain Technologies: A Comparative Analysis of US Patents with a Case Study on Great Britain Patents\n",
    "\n",
    "### Abstract:\n",
    "This dissertation aims to develop a comprehensive mathematical model to calculate innovation scores for blockchain-related patents using US patent data. The research includes data preprocessing, feature engineering, and the creation of a model that assigns weights to relevant features based on their significance in measuring innovation. A case study will be conducted using Great Britain patent data to showcase the model's application and effectiveness. The dissertation provides valuable insights into the level of innovation in blockchain technology within the United States and demonstrates the practicality of the proposed model for assessing innovation in a specific region.\n",
    "\n",
    "### Objective:\n",
    "\n",
    "1. To design and develop a mathematical model that assigns innovation scores to blockchain-related patents within the US patents dataset.\n",
    "2. To analyze the temporal trends of blockchain-related patents and identify patterns of innovation over time.\n",
    "3. To assess the innovation landscape by calculating the number/percentage of blockchain patents and identifying the most innovative companies within the United States over time.\n",
    "4. To validate the model's effectiveness through a case study using Great Britain patent data.\n",
    "5. To gain insights into the innovation trends in Great Britain's blockchain domain and compare them with the US findings, highlighting potential variations in blockchain technology advancements.\n",
    "\n",
    "\n",
    "### Proposed Methodology:\n",
    "\n",
    "#1. Data Collection and Preprocessing:\n",
    "* Gather US patent data related to blockchain technologies from the USPTO.\n",
    "* Collect Great Britain patent data from the UK Intellectual Property Office (UKIPO) as a case study dataset.\n",
    "Preprocess the data to clean, format, and extract relevant information for analysis.\n",
    "\n",
    "#2. Feature Engineering and Weighting Scheme:\n",
    "* Identify features and factors that contribute to innovation in blockchain patents.\n",
    "* Develop a weighting scheme to assign appropriate weights to each feature based on its significance.\n",
    "\n",
    "#3. Model Development Innovation Score Calculation:\n",
    "* Create a mathematical model that combines the weighted features to calculate the innovation scores for each blockchain patent in the US dataset.\\n\n",
    "\n",
    "#4. Temporal Analysis of US Patents:\n",
    "* Analyze the temporal trends and growth of blockchain-related patents in the United States.\n",
    "\n",
    "#5. Case Study on Great Britain Patents:\n",
    "* Apply the same model and weighting scheme to the Great Britain patent data to calculate innovation scores for blockchain patents in this region.\n",
    "\n",
    "#6. Comparative Analysis:\n",
    "* Compare the innovation scores between the US and Great Britain datasets to gain insights into the relative innovation levels in blockchain technologies in the two regions.\n",
    "\n",
    "\n",
    "#7. Visualization and Interpretation:\n",
    "* Present the findings using visualizations (e.g., line charts, bar graphs) to aid in the interpretation of the results.\n",
    "\n",
    "#8. Discussion and Conclusion:\n",
    "* Discuss the implications of the analysis and how the innovation scores reflect the innovation landscape in the United States and Great Britain.\n",
    "* Reflect on the limitations and potential future directions for the research.\n",
    "\n",
    "\n",
    "### Conclusion:\n",
    "The dissertation will provide a comprehensive mathematical model for assessing innovation in blockchain technology using US patent data. The case study on Great Britain patents will demonstrate the model's applicability to a specific region. The research outcomes will contribute to the understanding of blockchain technology advancements within the United States and offer insights into the level of innovation in the Great Britain blockchain domain.\n",
    "\n"
   ]
  },
  {
   "cell_type": "code",
   "execution_count": null,
   "metadata": {
    "collapsed": true,
    "deletable": true,
    "editable": true
   },
   "outputs": [],
   "source": []
  },
  {
   "cell_type": "code",
   "execution_count": null,
   "metadata": {
    "collapsed": true,
    "deletable": true,
    "editable": true
   },
   "outputs": [],
   "source": []
  }
 ],
 "metadata": {
  "kernelspec": {
   "display_name": "Python 2",
   "language": "python",
   "name": "python2"
  },
  "language_info": {
   "codemirror_mode": {
    "name": "ipython",
    "version": 2
   },
   "file_extension": ".py",
   "mimetype": "text/x-python",
   "name": "python",
   "nbconvert_exporter": "python",
   "pygments_lexer": "ipython2",
   "version": "2.7.13"
  }
 },
 "nbformat": 4,
 "nbformat_minor": 5
}
