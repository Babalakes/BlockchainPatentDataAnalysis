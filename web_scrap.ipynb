{
 "cells": [
  {
   "cell_type": "code",
   "execution_count": 22,
   "metadata": {},
   "outputs": [
    {
     "name": "stdout",
     "output_type": "stream",
     "text": [
      "Cited by: 40\n"
     ]
    }
   ],
   "source": [
    "from selenium import webdriver\n",
    "from selenium.webdriver.common.by import By\n",
    "from bs4 import BeautifulSoup\n",
    "\n",
    "# URL of the patent page\n",
    "url = \"https://patents.google.com/patent/US11030217B2/en\"\n",
    "\n",
    "# Initialize a Selenium webdriver\n",
    "driver = webdriver.Chrome()\n",
    "\n",
    "# Open the URL in the browser\n",
    "driver.get(url)\n",
    "\n",
    "# Get the page source after JavaScript rendering\n",
    "page_source = driver.page_source\n",
    "\n",
    "# Close the browser\n",
    "driver.quit()\n",
    "\n",
    "# Parse the page source using Beautiful Soup\n",
    "soup = BeautifulSoup(page_source, \"html.parser\")\n",
    "\n",
    "# Find the \"Cited by\" element using the HTML structure\n",
    "cited_by_element = soup.find(\"h3\", {\"id\": \"citedBy\"})\n",
    "\n",
    "# Extract the \"Cited by\" count if found\n",
    "if cited_by_element:\n",
    "    cited_by_text = cited_by_element.get_text()\n",
    "    cited_by_count = int(re.search(r\"\\d+\", cited_by_text).group())\n",
    "    print(f\"Cited by: {cited_by_count}\")\n",
    "else:\n",
    "    print(\"Cited by element not found\")\n"
   ]
  }
 ],
 "metadata": {
  "kernelspec": {
   "display_name": "Python 3",
   "language": "python",
   "name": "python3"
  },
  "language_info": {
   "codemirror_mode": {
    "name": "ipython",
    "version": 3
   },
   "file_extension": ".py",
   "mimetype": "text/x-python",
   "name": "python",
   "nbconvert_exporter": "python",
   "pygments_lexer": "ipython3",
   "version": "3.11.0"
  },
  "orig_nbformat": 4
 },
 "nbformat": 4,
 "nbformat_minor": 2
}
