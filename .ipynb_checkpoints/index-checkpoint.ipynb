{
 "cells": [
  {
   "cell_type": "markdown",
   "metadata": {
    "id": "Ov4w4h5kho7-"
   },
   "source": [
    "# Download US patent data\n"
   ]
  },
  {
   "cell_type": "markdown",
   "metadata": {
    "id": "SnfUfUHBkUgM"
   },
   "source": [
    "### WRDS\n",
    "\n",
    "Downloaded from\n",
    "https://wrds-www.wharton.upenn.edu/login/?next=/pages/get-data/wrds-us-patents/compustat-link/\n"
   ]
  },
  {
   "cell_type": "markdown",
   "metadata": {
    "id": "nL-ZMlB-fJcN"
   },
   "source": [
    "\n",
    "US Patent Public Search tool:\n",
    "\n",
    "https://ppubs.uspto.gov/pubwebapp/\n",
    "\n",
    "\n",
    "| Type | Query |\n",
    "|---|---|\n",
    "| Search for keywords<br>in all document | (Cryptocurrency OR bitcoin OR ethereum OR \"distributed ledge\" OR \"consensus mechanism\"<br>OR \"smart contract\" OR \"digital asset\" OR \"non-fungible token\" OR <br>\"decentralized finance\" OR \"initial coin offering\" OR \"decentralized autonomous organization\"<br>OR \"decentralized application\") AND @pd>=\"2010\"<2011 |\n",
    "| Search in the abstract<br>and brief summary | ((blockchain.ab. OR blockchain.bsum.) OR (Cryptocurrency.ab. OR Cryptocurrency.bsum.) <br>OR (bitcoin.ab. OR bitcoin.bsum.) OR (ethereum.ab. OR ethereum.bsum.) OR <br>(\"distributed ledge\".ab. OR \"distributed ledge\".bsum.) OR (\"consensus mechanism\".ab. <br>OR \"consensus mechanism\".bsum.) OR (\"smart contract\".ab. OR \"smart contract\".bsum.) <br>OR (\"digital asset\".ab. OR \"digital asset\".bsum.) OR (\"non-fungible token\".ab. OR <br>\"non-fungible token\".bsum.) OR (\"decentralized finance\".ab. OR \"decentralized finance\".bsum.)<br>OR (\"initial coin offering\".ab. OR \"initial coin offering\".bsum.) OR<br>(\"decentralized autonomous organization\".ab. OR \"decentralized autonomous organization\".bsum.) <br>OR (\"decentralized application\".ab. OR \"decentralized application\".bsum.) |\n",
    "\n",
    "\n",
    "Save the results \"DOCUMENT ID\" into a csv file: \"list_id_query.csv\""
   ]
  },
  {
   "cell_type": "code",
   "execution_count": null,
   "metadata": {
    "colab": {
     "base_uri": "https://localhost:8080/"
    },
    "id": "J5tFb6SlmUxt",
    "outputId": "46dce8af-0f3a-482b-d505-b7c1853825e1"
   },
   "outputs": [
    {
     "name": "stdout",
     "output_type": "stream",
     "text": [
      "Mounted at /content/drive\n"
     ]
    }
   ],
   "source": [
    "import pandas as pd\n",
    "import numpy as np\n",
    "from google.colab import drive\n",
    "drive.mount('/content/drive')"
   ]
  },
  {
   "cell_type": "code",
   "execution_count": null,
   "metadata": {
    "colab": {
     "base_uri": "https://localhost:8080/"
    },
    "id": "-uScPvytrLsv",
    "outputId": "42d236cd-376e-4be6-a5c8-211a9ecd9094"
   },
   "outputs": [
    {
     "name": "stdout",
     "output_type": "stream",
     "text": [
      "Downloading...\n",
      "From: https://drive.google.com/uc?id=1uOzDjSy-VQU3VjFS_p7mwJIUBl7CoYjm\n",
      "To: /content/list_id_query.csv\n",
      "100% 478k/478k [00:00<00:00, 3.83MB/s]\n",
      "Downloading...\n",
      "From: https://drive.google.com/uc?id=1IKvPcb9JVCK81Dq-NZz34caWPSjf5pZ8\n",
      "To: /content/uspatents_meta.csv\n",
      "100% 397M/397M [00:03<00:00, 125MB/s]\n",
      "Downloading...\n",
      "From: https://drive.google.com/uc?id=1btucYyv1-Z1b3fZbAU-qb2k-wDdfVddL\n",
      "To: /content/uspatents_gvkey_linking.csv\n",
      "100% 59.1M/59.1M [00:00<00:00, 110MB/s]\n"
     ]
    }
   ],
   "source": [
    "# uspatents_gvkey_linking.csv         = \"1btucYyv1-Z1b3fZbAU-qb2k-wDdfVddL\"\n",
    "# uspatents_meta.csv                  = \"1IKvPcb9JVCK81Dq-NZz34caWPSjf5pZ8\"\n",
    "# list_id_query.csv                   = \"1uOzDjSy-VQU3VjFS_p7mwJIUBl7CoYjm\"\n",
    "\n",
    "!gdown 1uOzDjSy-VQU3VjFS_p7mwJIUBl7CoYjm\n",
    "!gdown 1IKvPcb9JVCK81Dq-NZz34caWPSjf5pZ8\n",
    "!gdown 1btucYyv1-Z1b3fZbAU-qb2k-wDdfVddL"
   ]
  },
  {
   "cell_type": "code",
   "execution_count": null,
   "metadata": {
    "colab": {
     "base_uri": "https://localhost:8080/"
    },
    "id": "1TY4CTDOncT0",
    "outputId": "26dda3f3-ea47-4688-fc19-12dc1f398571"
   },
   "outputs": [
    {
     "name": "stdout",
     "output_type": "stream",
     "text": [
      "      patnum   grantdate    appldate\n",
      "0  7865968.0  2011-01-11  2006-04-18\n",
      "1  7865969.0  2011-01-11  2005-02-03\n",
      "2  7865976.0  2011-01-11  2006-10-04\n",
      "3  7865977.0  2011-01-11  2007-01-19\n",
      "4  7865978.0  2011-01-11  2008-08-26\n",
      "      patnum  gvkey_numeric\n",
      "0  7865968.0           7435\n",
      "1  7865982.0           5639\n",
      "2  7865983.0           5639\n",
      "3  7865988.0         116504\n",
      "4  7865990.0         251303\n",
      "             id date_published\n",
      "0  2.010033e+10     30/12/2010\n",
      "1  7.860830e+06     28/12/2010\n",
      "2  7.860013e+06     28/12/2010\n",
      "3  2.010032e+10     23/12/2010\n",
      "4  7.856604e+06     21/12/2010\n"
     ]
    }
   ],
   "source": [
    "df_meta = pd.read_csv(\"uspatents_meta.csv\", low_memory=False)\n",
    "df_meta.patnum = pd.to_numeric(df_meta.patnum, errors='coerce', downcast='integer')\n",
    "print(df_meta[[\"patnum\", \"grantdate\", \"appldate\"]].head(5))\n",
    "\n",
    "df_link = pd.read_csv(\"uspatents_gvkey_linking.csv\", low_memory=False)\n",
    "df_link.patnum = pd.to_numeric(df_link.patnum, errors='coerce', downcast='integer')\n",
    "print(df_link[[\"patnum\", \"gvkey_numeric\"]].head(5))\n",
    "\n",
    "df_list = pd.read_csv(\"list_id_query.csv\", low_memory=False)\n",
    "\n",
    "df_list.id = df_list.id.replace(\"US \", \"\", regex=True)\n",
    "df_list.id = df_list.id.replace(\" A1\", \"\", regex=True)\n",
    "df_list.id = df_list.id.replace(\" B1\", \"\", regex=True)\n",
    "df_list.id = df_list.id.replace(\" B2\", \"\", regex=True)\n",
    "df_list.id = pd.to_numeric(df_list.id, errors='coerce', downcast='integer')\n",
    "print(df_list.head(5))"
   ]
  },
  {
   "cell_type": "code",
   "execution_count": null,
   "metadata": {
    "colab": {
     "base_uri": "https://localhost:8080/"
    },
    "id": "MqwkBAF8zL-m",
    "outputId": "daa79e6a-fb04-4c84-dad2-e487d5954f9c"
   },
   "outputs": [
    {
     "name": "stdout",
     "output_type": "stream",
     "text": [
      "4503\n",
      "4498\n"
     ]
    }
   ],
   "source": [
    "df_list['date_published'] = pd.to_datetime(df_list['date_published'], format=\"%d/%m/%Y\")\n",
    "\n",
    "# Filter rows with 'date_published' before 2020\n",
    "df_list = df_list[df_list['date_published'].dt.year < 2020]\n",
    "\n",
    "print(len(df_list))\n",
    "print(len(df_list.drop_duplicates(subset=[\"id\"])))"
   ]
  },
  {
   "cell_type": "code",
   "execution_count": null,
   "metadata": {
    "colab": {
     "base_uri": "https://localhost:8080/"
    },
    "id": "oPzW2ds0rRU9",
    "outputId": "94f366a7-3d8e-4b3d-c41d-0598be409069"
   },
   "outputs": [
    {
     "name": "stdout",
     "output_type": "stream",
     "text": [
      "2472232\n",
      "2472232\n"
     ]
    }
   ],
   "source": [
    "print(len(df_meta))\n",
    "print(len(df_meta.drop_duplicates(subset=[\"patnum\"])))"
   ]
  },
  {
   "cell_type": "code",
   "execution_count": null,
   "metadata": {
    "id": "Bx30LdZ5rkcL"
   },
   "outputs": [],
   "source": [
    "df_meta = df_meta.drop_duplicates(subset=[\"patnum\"])\n",
    "df_meta = df_meta.dropna(subset=[\"patnum\"])"
   ]
  },
  {
   "cell_type": "code",
   "execution_count": null,
   "metadata": {
    "colab": {
     "base_uri": "https://localhost:8080/"
    },
    "id": "DoAm0GYJkRhL",
    "outputId": "b5dcec35-6f3a-4d1e-c7e6-983c3c9d0b27"
   },
   "outputs": [
    {
     "name": "stdout",
     "output_type": "stream",
     "text": [
      "      patnum   grantdate  present_in_list\n",
      "0  7865968.0  2011-01-11                0\n",
      "1  7865969.0  2011-01-11                0\n",
      "2  7865976.0  2011-01-11                0\n",
      "3  7865977.0  2011-01-11                0\n",
      "4  7865978.0  2011-01-11                0\n"
     ]
    }
   ],
   "source": [
    "# create a boolean mask\n",
    "mask = df_meta['patnum'].isin(df_list['id'])\n",
    "\n",
    "# add new column to df_meta based on the mask\n",
    "df_meta['present_in_list'] = mask.astype(int)\n",
    "\n",
    "# print the updated df_meta\n",
    "print(df_meta[[\"patnum\", \"grantdate\", \"present_in_list\"]].head())"
   ]
  },
  {
   "cell_type": "code",
   "execution_count": null,
   "metadata": {
    "colab": {
     "base_uri": "https://localhost:8080/"
    },
    "id": "4-_JyYjenGmT",
    "outputId": "8ba896f7-160c-4aeb-fea4-8a70cd4b331c"
   },
   "outputs": [
    {
     "data": {
      "text/plain": [
       "853"
      ]
     },
     "execution_count": 100,
     "metadata": {},
     "output_type": "execute_result"
    }
   ],
   "source": [
    "df_meta.present_in_list.sum()"
   ]
  }
 ],
 "metadata": {
  "colab": {
   "provenance": []
  },
  "kernelspec": {
   "display_name": "Python 3 (ipykernel)",
   "language": "python",
   "name": "python3"
  },
  "language_info": {
   "codemirror_mode": {
    "name": "ipython",
    "version": 3
   },
   "file_extension": ".py",
   "mimetype": "text/x-python",
   "name": "python",
   "nbconvert_exporter": "python",
   "pygments_lexer": "ipython3",
   "version": "3.9.12"
  }
 },
 "nbformat": 4,
 "nbformat_minor": 1
}
